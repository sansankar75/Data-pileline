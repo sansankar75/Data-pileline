{
 "cells": [
  {
   "cell_type": "code",
   "execution_count": 6,
   "id": "b5674fb0-104d-4b21-8b3b-4a9e1a814378",
   "metadata": {},
   "outputs": [],
   "source": [
    "#import packages\n",
    "import pandas as pd\n",
    "import numpy as np\n",
    "import joblib\n",
    "from sklearn.model_selection import train_test_split   #this is split your data into training and testing part for model performance\n",
    "from sklearn.pipeline import Pipeline\n",
    "from sklearn.compose import ColumnTransformer #its allow the pipelines to link together\n",
    "from sklearn.preprocessing import StandardScaler,OneHotEncoder\n",
    "from sklearn.impute import SimpleImputer  #its will handle the missing values in data set\n",
    "from sklearn.ensemble import RandomForestRegressor\n",
    "from sklearn.metrics import mean_squared_error,r2_score,mean_absolute_error\n"
   ]
  },
  {
   "cell_type": "code",
   "execution_count": 22,
   "id": "2fd1ed79-a67d-420c-9584-09ee41a4bdc7",
   "metadata": {},
   "outputs": [
    {
     "name": "stdout",
     "output_type": "stream",
     "text": [
      "MODEL PERFORMANCE\n",
      "R2_score:0.9921455869021988\n",
      "Root Mean Square Error:5.181728220675141\n",
      "mean absolute error:0.8266176470588228\n"
     ]
    },
    {
     "ename": "NameError",
     "evalue": "name 'pipline' is not defined",
     "output_type": "error",
     "traceback": [
      "\u001b[1;31m---------------------------------------------------------------------------\u001b[0m",
      "\u001b[1;31mNameError\u001b[0m                                 Traceback (most recent call last)",
      "Cell \u001b[1;32mIn[22], line 47\u001b[0m\n\u001b[0;32m     43\u001b[0m \u001b[38;5;28mprint\u001b[39m(\u001b[38;5;124mf\u001b[39m\u001b[38;5;124m\"\u001b[39m\u001b[38;5;124mRoot Mean Square Error:\u001b[39m\u001b[38;5;132;01m{\u001b[39;00mrmse\u001b[38;5;132;01m}\u001b[39;00m\u001b[38;5;124m\"\u001b[39m)\n\u001b[0;32m     44\u001b[0m \u001b[38;5;28mprint\u001b[39m(\u001b[38;5;124mf\u001b[39m\u001b[38;5;124m\"\u001b[39m\u001b[38;5;124mmean absolute error:\u001b[39m\u001b[38;5;132;01m{\u001b[39;00mmae\u001b[38;5;132;01m}\u001b[39;00m\u001b[38;5;124m\"\u001b[39m)\n\u001b[1;32m---> 47\u001b[0m joblib\u001b[38;5;241m.\u001b[39mdump(pipline,\u001b[38;5;124m\"\u001b[39m\u001b[38;5;124mvehicle_emission_pipeline.joblib\u001b[39m\u001b[38;5;124m\"\u001b[39m)\n",
      "\u001b[1;31mNameError\u001b[0m: name 'pipline' is not defined"
     ]
    }
   ],
   "source": [
    "#create features and target variable\n",
    "data=pd.read_csv(\"Sample.csv\")\n",
    "x=data.drop([\"CO2_EMISSIONS\"],axis=1) #we remove this data in file because your model dont want to see this data \n",
    "y=data[\"CO2_EMISSIONS\"]\n",
    "\n",
    "#split categorial and numerical features\n",
    "numerical_cols=[\"MODEL\",\"ENGINE_SIZE\",\"CYLINDERS\",\"FUEL_CONSUMPTION*\",\"Unnamed: 9\",\"Unnamed: 10\",\"Unnamed: 11\"]  #INT FLOAT VALUES DATATYPES\n",
    "categorial_cols=[\"MAKE\",\"MODEL.1\",\"VEHICLE CLASS\",\"TRANSMISSION\",\"FUEL\"] #STRING(OBJECT) DATATYPES \n",
    "\n",
    "#start the pipeline with encoding\n",
    "numerical_pipeline=Pipeline([\n",
    "    ('imputer',SimpleImputer(strategy=\"mean\"))\n",
    "    ,(\"scaler\",StandardScaler())])\n",
    "categorial_pipeline=Pipeline([\n",
    "    ('imputer',SimpleImputer(strategy=\"most_frequent\")),\n",
    "    ('encoder',OneHotEncoder(handle_unknown=\"ignore\"))])\n",
    "\n",
    "#join the pipelines together\n",
    "preprocessor=ColumnTransformer([\n",
    "    ('num',numerical_pipeline,numerical_cols),\n",
    "    (\"cat\",categorial_pipeline,categorial_cols)\n",
    "])\n",
    "\n",
    "pipeline=Pipeline([\n",
    "    (\"preprocessor\",preprocessor),\n",
    "    (\"model\",RandomForestRegressor())\n",
    "])\n",
    "\n",
    "#split into training and testing datasets\n",
    "x_train,x_test,y_train,y_test=train_test_split(x,y,test_size=0.2,random_state=42)\n",
    "\n",
    "#train and predict model\n",
    "pipeline.fit(x_train,y_train)\n",
    "prediction=pipeline.predict(x_test)\n",
    "\n",
    "#evaluate model accuracy\n",
    "mse=mean_squared_error(y_test,prediction)\n",
    "rmse=np.sqrt(mse)\n",
    "r2=r2_score(y_test,prediction)\n",
    "mae=mean_absolute_error(y_test,prediction)\n",
    "print(\"MODEL PERFORMANCE\")\n",
    "print(f\"R2_score:{r2}\")\n",
    "print(f\"Root Mean Square Error:{rmse}\")\n",
    "print(f\"mean absolute error:{mae}\")\n",
    "\n",
    "\n",
    "joblib.dump(pipeline,\"vehicle_emission_pipeline.joblib\")"
   ]
  },
  {
   "cell_type": "code",
   "execution_count": 18,
   "id": "31c0b028-e3d1-474c-b04e-f8602a1594d5",
   "metadata": {},
   "outputs": [
    {
     "data": {
      "text/plain": [
       "Index(['MODEL', 'MAKE', 'MODEL.1', 'VEHICLE CLASS', 'ENGINE_SIZE', 'CYLINDERS',\n",
       "       'TRANSMISSION', 'FUEL', 'FUEL_CONSUMPTION*', 'Unnamed: 9',\n",
       "       'Unnamed: 10', 'Unnamed: 11', 'CO2_EMISSIONS'],\n",
       "      dtype='object')"
      ]
     },
     "execution_count": 18,
     "metadata": {},
     "output_type": "execute_result"
    }
   ],
   "source": [
    "data.columns"
   ]
  },
  {
   "cell_type": "code",
   "execution_count": null,
   "id": "ba8ced0b-9c28-418f-ba7a-f288f49c951a",
   "metadata": {},
   "outputs": [],
   "source": []
  }
 ],
 "metadata": {
  "kernelspec": {
   "display_name": "Python 3 (ipykernel)",
   "language": "python",
   "name": "python3"
  },
  "language_info": {
   "codemirror_mode": {
    "name": "ipython",
    "version": 3
   },
   "file_extension": ".py",
   "mimetype": "text/x-python",
   "name": "python",
   "nbconvert_exporter": "python",
   "pygments_lexer": "ipython3",
   "version": "3.12.7"
  }
 },
 "nbformat": 4,
 "nbformat_minor": 5
}
