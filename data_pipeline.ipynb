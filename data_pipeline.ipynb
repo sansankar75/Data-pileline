{
 "cells": [
  {
   "cell_type": "code",
   "execution_count": 6,
   "id": "b5674fb0-104d-4b21-8b3b-4a9e1a814378",
   "metadata": {},
   "outputs": [],
   "source": [
    "#import packages\n",
    "import pandas as pd\n",
    "import numpy as np\n",
    "import joblib\n",
    "from sklearn.model_selection import train_test_split   #this is split your data into training and testing part for model performance\n",
    "from sklearn.pipeline import Pipeline\n",
    "from sklearn.compose import ColumnTransformer #its allow the pipelines to link together\n",
    "from sklearn.preprocessing import StandardScaler,OneHotEncoder\n",
    "from sklearn.impute import SimpleImputer  #its will handle the missing values in data set\n",
    "from sklearn.ensemble import RandomForestRegressor\n",
    "from sklearn.metrics import mean_squared_error,r2_score,mean_absolute_error\n"
   ]
  },
  {
   "cell_type": "code",
   "execution_count": 23,
   "id": "2fd1ed79-a67d-420c-9584-09ee41a4bdc7",
   "metadata": {},
   "outputs": [
    {
     "name": "stdout",
     "output_type": "stream",
     "text": [
      "MODEL PERFORMANCE\n",
      "R2_score:0.990894094841656\n",
      "Root Mean Square Error:5.579294969164223\n",
      "mean absolute error:0.8970588235294092\n"
     ]
    },
    {
     "data": {
      "text/plain": [
       "['vehicle_emission_pipeline.joblib']"
      ]
     },
     "execution_count": 23,
     "metadata": {},
     "output_type": "execute_result"
    }
   ],
   "source": [
    "#create features and target variable\n",
    "data=pd.read_csv(\"Sample.csv\")\n",
    "x=data.drop([\"CO2_EMISSIONS\"],axis=1) #we remove this data in file because your model dont want to see this data \n",
    "y=data[\"CO2_EMISSIONS\"]\n",
    "\n",
    "#split categorial and numerical features\n",
    "numerical_cols=[\"MODEL\",\"ENGINE_SIZE\",\"CYLINDERS\",\"FUEL_CONSUMPTION*\",\"Unnamed: 9\",\"Unnamed: 10\",\"Unnamed: 11\"]  #INT FLOAT VALUES DATATYPES\n",
    "categorial_cols=[\"MAKE\",\"MODEL.1\",\"VEHICLE CLASS\",\"TRANSMISSION\",\"FUEL\"] #STRING(OBJECT) DATATYPES \n",
    "\n",
    "#start the pipeline with encoding\n",
    "numerical_pipeline=Pipeline([\n",
    "    ('imputer',SimpleImputer(strategy=\"mean\"))\n",
    "    ,(\"scaler\",StandardScaler())])\n",
    "categorial_pipeline=Pipeline([\n",
    "    ('imputer',SimpleImputer(strategy=\"most_frequent\")),\n",
    "    ('encoder',OneHotEncoder(handle_unknown=\"ignore\"))])\n",
    "\n",
    "#join the pipelines together\n",
    "preprocessor=ColumnTransformer([\n",
    "    ('num',numerical_pipeline,numerical_cols),\n",
    "    (\"cat\",categorial_pipeline,categorial_cols)\n",
    "])\n",
    "\n",
    "pipeline=Pipeline([\n",
    "    (\"preprocessor\",preprocessor),\n",
    "    (\"model\",RandomForestRegressor())\n",
    "])\n",
    "\n",
    "#split into training and testing datasets\n",
    "x_train,x_test,y_train,y_test=train_test_split(x,y,test_size=0.2,random_state=42)\n",
    "\n",
    "#train and predict model\n",
    "pipeline.fit(x_train,y_train)\n",
    "prediction=pipeline.predict(x_test)\n",
    "\n",
    "#evaluate model accuracy\n",
    "mse=mean_squared_error(y_test,prediction)\n",
    "rmse=np.sqrt(mse)\n",
    "r2=r2_score(y_test,prediction)\n",
    "mae=mean_absolute_error(y_test,prediction)\n",
    "print(\"MODEL PERFORMANCE\")\n",
    "print(f\"R2_score:{r2}\")\n",
    "print(f\"Root Mean Square Error:{rmse}\")\n",
    "print(f\"mean absolute error:{mae}\")\n",
    "\n",
    "\n",
    "joblib.dump(pipeline,\"vehicle_emission_pipeline.joblib\")"
   ]
  },
  {
   "cell_type": "code",
   "execution_count": 18,
   "id": "31c0b028-e3d1-474c-b04e-f8602a1594d5",
   "metadata": {},
   "outputs": [
    {
     "data": {
      "text/plain": [
       "Index(['MODEL', 'MAKE', 'MODEL.1', 'VEHICLE CLASS', 'ENGINE_SIZE', 'CYLINDERS',\n",
       "       'TRANSMISSION', 'FUEL', 'FUEL_CONSUMPTION*', 'Unnamed: 9',\n",
       "       'Unnamed: 10', 'Unnamed: 11', 'CO2_EMISSIONS'],\n",
       "      dtype='object')"
      ]
     },
     "execution_count": 18,
     "metadata": {},
     "output_type": "execute_result"
    }
   ],
   "source": [
    "data.columns"
   ]
  },
  {
   "cell_type": "code",
   "execution_count": 24,
   "id": "ba8ced0b-9c28-418f-ba7a-f288f49c951a",
   "metadata": {},
   "outputs": [
    {
     "name": "stdout",
     "output_type": "stream",
     "text": [
      "<class 'pandas.core.frame.DataFrame'>\n",
      "RangeIndex: 679 entries, 0 to 678\n",
      "Data columns (total 13 columns):\n",
      " #   Column             Non-Null Count  Dtype  \n",
      "---  ------             --------------  -----  \n",
      " 0   MODEL              679 non-null    int64  \n",
      " 1   MAKE               679 non-null    object \n",
      " 2   MODEL.1            679 non-null    object \n",
      " 3   VEHICLE CLASS      679 non-null    object \n",
      " 4   ENGINE_SIZE        679 non-null    float64\n",
      " 5   CYLINDERS          679 non-null    int64  \n",
      " 6   TRANSMISSION       679 non-null    object \n",
      " 7   FUEL               679 non-null    object \n",
      " 8   FUEL_CONSUMPTION*  679 non-null    float64\n",
      " 9   Unnamed: 9         679 non-null    float64\n",
      " 10  Unnamed: 10        679 non-null    float64\n",
      " 11  Unnamed: 11        679 non-null    int64  \n",
      " 12  CO2_EMISSIONS      679 non-null    int64  \n",
      "dtypes: float64(4), int64(4), object(5)\n",
      "memory usage: 69.1+ KB\n"
     ]
    }
   ],
   "source": [
    "data.info()"
   ]
  },
  {
   "cell_type": "code",
   "execution_count": null,
   "id": "3b371043-f0cd-407d-9196-5f2ad949603a",
   "metadata": {},
   "outputs": [],
   "source": []
  }
 ],
 "metadata": {
  "kernelspec": {
   "display_name": "Python 3 (ipykernel)",
   "language": "python",
   "name": "python3"
  },
  "language_info": {
   "codemirror_mode": {
    "name": "ipython",
    "version": 3
   },
   "file_extension": ".py",
   "mimetype": "text/x-python",
   "name": "python",
   "nbconvert_exporter": "python",
   "pygments_lexer": "ipython3",
   "version": "3.12.3"
  }
 },
 "nbformat": 4,
 "nbformat_minor": 5
}
